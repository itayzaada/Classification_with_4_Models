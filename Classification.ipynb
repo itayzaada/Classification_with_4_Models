{
 "cells": [
  {
   "cell_type": "code",
   "execution_count": 1,
   "id": "1f10c637",
   "metadata": {},
   "outputs": [],
   "source": [
    "import matplotlib.pyplot as plt\n",
    "import seaborn as sns\n",
    "import pandas as pd\n",
    "\n",
    "from math import sqrt\n",
    "from sklearn.model_selection import train_test_split\n",
    "from sklearn.linear_model import LinearRegression\n",
    "from sklearn.preprocessing import MinMaxScaler\n",
    "from sklearn.neighbors import KNeighborsRegressor\n",
    "import numpy as np\n",
    "import tkinter\n",
    "from sklearn.ensemble import RandomForestRegressor\n",
    "from sklearn.preprocessing import PolynomialFeatures\n",
    "from sklearn.model_selection import RepeatedKFold\n",
    "from statistics import mean\n",
    "from statistics import stdev as std\n",
    "import statsmodels.formula.api as sm\n",
    "pd.set_option(\"display.max_columns\", None)\n",
    "import statsmodels.api as sm\n",
    "import matplotlib\n",
    "import warnings\n",
    "import statistics\n",
    "from sklearn.metrics import f1_score\n",
    "from sklearn.neighbors import KNeighborsClassifier\n",
    "warnings.filterwarnings('ignore')\n",
    "from sklearn.preprocessing import StandardScaler\n",
    "%matplotlib inline\n",
    "\n",
    "def merge_fix_cols(df_company,df_product,uniqueID):## merge 2 dataframes and remove the duplicate ## \n",
    "\n",
    "    df_merged = pd.merge(df_company,\n",
    "                         df_product,\n",
    "                         how='left',on=uniqueID)    \n",
    "    for col in df_merged:\n",
    "        if col.endswith('_x'):\n",
    "            df_merged.rename(columns = lambda col:col.rstrip('_x'),inplace=True)\n",
    "        elif col.endswith('_y'):\n",
    "            to_drop = [col for col in df_merged if col.endswith('_y')]\n",
    "            df_merged.drop(to_drop,axis=1,inplace=True)\n",
    "        else:\n",
    "            pass\n",
    "    return df_merged\n",
    "\n",
    "def dfmaker (x):\n",
    "    y = x.items()\n",
    "    y = list(y)\n",
    "    df = pd. DataFrame(y) \n",
    "    return df"
   ]
  },
  {
   "cell_type": "code",
   "execution_count": 2,
   "id": "9cef7308",
   "metadata": {},
   "outputs": [
    {
     "data": {
      "text/html": [
       "<div>\n",
       "<style scoped>\n",
       "    .dataframe tbody tr th:only-of-type {\n",
       "        vertical-align: middle;\n",
       "    }\n",
       "\n",
       "    .dataframe tbody tr th {\n",
       "        vertical-align: top;\n",
       "    }\n",
       "\n",
       "    .dataframe thead th {\n",
       "        text-align: right;\n",
       "    }\n",
       "</style>\n",
       "<table border=\"1\" class=\"dataframe\">\n",
       "  <thead>\n",
       "    <tr style=\"text-align: right;\">\n",
       "      <th></th>\n",
       "      <th>Height</th>\n",
       "      <th>Salary</th>\n",
       "      <th>Purchased</th>\n",
       "    </tr>\n",
       "  </thead>\n",
       "  <tbody>\n",
       "    <tr>\n",
       "      <th>0</th>\n",
       "      <td>187</td>\n",
       "      <td>20123</td>\n",
       "      <td>1</td>\n",
       "    </tr>\n",
       "    <tr>\n",
       "      <th>1</th>\n",
       "      <td>161</td>\n",
       "      <td>13624</td>\n",
       "      <td>0</td>\n",
       "    </tr>\n",
       "    <tr>\n",
       "      <th>2</th>\n",
       "      <td>167</td>\n",
       "      <td>16319</td>\n",
       "      <td>0</td>\n",
       "    </tr>\n",
       "    <tr>\n",
       "      <th>3</th>\n",
       "      <td>177</td>\n",
       "      <td>24251</td>\n",
       "      <td>1</td>\n",
       "    </tr>\n",
       "    <tr>\n",
       "      <th>4</th>\n",
       "      <td>190</td>\n",
       "      <td>57048</td>\n",
       "      <td>1</td>\n",
       "    </tr>\n",
       "    <tr>\n",
       "      <th>...</th>\n",
       "      <td>...</td>\n",
       "      <td>...</td>\n",
       "      <td>...</td>\n",
       "    </tr>\n",
       "    <tr>\n",
       "      <th>996</th>\n",
       "      <td>184</td>\n",
       "      <td>43717</td>\n",
       "      <td>1</td>\n",
       "    </tr>\n",
       "    <tr>\n",
       "      <th>997</th>\n",
       "      <td>191</td>\n",
       "      <td>36498</td>\n",
       "      <td>1</td>\n",
       "    </tr>\n",
       "    <tr>\n",
       "      <th>998</th>\n",
       "      <td>157</td>\n",
       "      <td>21908</td>\n",
       "      <td>0</td>\n",
       "    </tr>\n",
       "    <tr>\n",
       "      <th>999</th>\n",
       "      <td>183</td>\n",
       "      <td>35948</td>\n",
       "      <td>1</td>\n",
       "    </tr>\n",
       "    <tr>\n",
       "      <th>1000</th>\n",
       "      <td>204</td>\n",
       "      <td>44793</td>\n",
       "      <td>1</td>\n",
       "    </tr>\n",
       "  </tbody>\n",
       "</table>\n",
       "<p>1001 rows × 3 columns</p>\n",
       "</div>"
      ],
      "text/plain": [
       "      Height  Salary  Purchased\n",
       "0        187   20123          1\n",
       "1        161   13624          0\n",
       "2        167   16319          0\n",
       "3        177   24251          1\n",
       "4        190   57048          1\n",
       "...      ...     ...        ...\n",
       "996      184   43717          1\n",
       "997      191   36498          1\n",
       "998      157   21908          0\n",
       "999      183   35948          1\n",
       "1000     204   44793          1\n",
       "\n",
       "[1001 rows x 3 columns]"
      ]
     },
     "execution_count": 2,
     "metadata": {},
     "output_type": "execute_result"
    }
   ],
   "source": [
    "dataset = pd.read_csv(\"dataset.csv\") ## read the csv file ## \n",
    "dataset"
   ]
  },
  {
   "cell_type": "code",
   "execution_count": 3,
   "id": "3bbc5750",
   "metadata": {
    "scrolled": true
   },
   "outputs": [
    {
     "name": "stdout",
     "output_type": "stream",
     "text": [
      "percentage of no Purchased is 39.06093906093906\n",
      "percentage of Purchased 60.93906093906094\n"
     ]
    },
    {
     "data": {
      "image/png": "[encoded data removed]",
      "text/plain": [
       "<Figure size 432x288 with 1 Axes>"
      ]
     },
     "metadata": {
      "needs_background": "light"
     },
     "output_type": "display_data"
    }
   ],
   "source": [
    "sns.countplot(dataset['Purchased'], label = \"Count\")\n",
    "count_no_sub = len(dataset[dataset['Purchased']==0])\n",
    "count_sub = len(dataset[dataset['Purchased']==1])\n",
    "pct_of_no_sub =count_no_sub/(count_no_sub+count_sub)\n",
    "print(\"percentage of no Purchased is\",\n",
    "pct_of_no_sub*100)\n",
    "pct_of_sub = count_sub/(count_no_sub+count_sub)\n",
    "print(\"percentage of Purchased\", pct_of_sub*100)\n"
   ]
  },
  {
   "cell_type": "code",
   "execution_count": 4,
   "id": "554de612",
   "metadata": {},
   "outputs": [
    {
     "data": {
      "text/plain": [
       "<AxesSubplot:>"
      ]
     },
     "execution_count": 4,
     "metadata": {},
     "output_type": "execute_result"
    },
    {
     "data": {
      "image/png": "[encoded data removed]",
      "text/plain": [
       "<Figure size 432x288 with 2 Axes>"
      ]
     },
     "metadata": {
      "needs_background": "light"
     },
     "output_type": "display_data"
    }
   ],
   "source": [
    "dfn_corr = dataset.corr()## show the corr matrix ##\n",
    "sns.heatmap(dfn_corr)"
   ]
  },
  {
   "cell_type": "code",
   "execution_count": 5,
   "id": "9f89a4ce",
   "metadata": {},
   "outputs": [],
   "source": [
    "#scaler = StandardScaler()\n",
    "y = dataset.iloc[:,2:3].values ## take the y postive\n",
    "x=dataset.iloc[:,0:2].values\n",
    "\n",
    "\n"
   ]
  },
  {
   "cell_type": "code",
   "execution_count": 6,
   "id": "607cd9f6",
   "metadata": {
    "scrolled": true
   },
   "outputs": [
    {
     "data": {
      "text/html": [
       "<style type=\"text/css\">\n",
       "#T_04611_row2_col2, #T_04611_row3_col1, #T_04611_row3_col2, #T_04611_row4_col2, #T_04611_row5_col1 {\n",
       "  background-color: lightgreen;\n",
       "}\n",
       "</style>\n",
       "<table id=\"T_04611_\">\n",
       "  <thead>\n",
       "    <tr>\n",
       "      <th class=\"blank level0\" >&nbsp;</th>\n",
       "      <th class=\"col_heading level0 col0\" >name</th>\n",
       "      <th class=\"col_heading level0 col1\" >avg</th>\n",
       "      <th class=\"col_heading level0 col2\" >std</th>\n",
       "    </tr>\n",
       "  </thead>\n",
       "  <tbody>\n",
       "    <tr>\n",
       "      <th id=\"T_04611_level0_row0\" class=\"row_heading level0 row0\" >0</th>\n",
       "      <td id=\"T_04611_row0_col0\" class=\"data row0 col0\" >1- Neighbors</td>\n",
       "      <td id=\"T_04611_row0_col1\" class=\"data row0 col1\" >0.925000</td>\n",
       "      <td id=\"T_04611_row0_col2\" class=\"data row0 col2\" >0.015000</td>\n",
       "    </tr>\n",
       "    <tr>\n",
       "      <th id=\"T_04611_level0_row1\" class=\"row_heading level0 row1\" >1</th>\n",
       "      <td id=\"T_04611_row1_col0\" class=\"data row1 col0\" >2- Neighbors</td>\n",
       "      <td id=\"T_04611_row1_col1\" class=\"data row1 col1\" >0.923000</td>\n",
       "      <td id=\"T_04611_row1_col2\" class=\"data row1 col2\" >0.015000</td>\n",
       "    </tr>\n",
       "    <tr>\n",
       "      <th id=\"T_04611_level0_row2\" class=\"row_heading level0 row2\" >2</th>\n",
       "      <td id=\"T_04611_row2_col0\" class=\"data row2 col0\" >3- Neighbors</td>\n",
       "      <td id=\"T_04611_row2_col1\" class=\"data row2 col1\" >0.924000</td>\n",
       "      <td id=\"T_04611_row2_col2\" class=\"data row2 col2\" >0.014000</td>\n",
       "    </tr>\n",
       "    <tr>\n",
       "      <th id=\"T_04611_level0_row3\" class=\"row_heading level0 row3\" >3</th>\n",
       "      <td id=\"T_04611_row3_col0\" class=\"data row3 col0\" >4- Neighbors</td>\n",
       "      <td id=\"T_04611_row3_col1\" class=\"data row3 col1\" >0.928000</td>\n",
       "      <td id=\"T_04611_row3_col2\" class=\"data row3 col2\" >0.014000</td>\n",
       "    </tr>\n",
       "    <tr>\n",
       "      <th id=\"T_04611_level0_row4\" class=\"row_heading level0 row4\" >4</th>\n",
       "      <td id=\"T_04611_row4_col0\" class=\"data row4 col0\" >5- Neighbors</td>\n",
       "      <td id=\"T_04611_row4_col1\" class=\"data row4 col1\" >0.927000</td>\n",
       "      <td id=\"T_04611_row4_col2\" class=\"data row4 col2\" >0.014000</td>\n",
       "    </tr>\n",
       "    <tr>\n",
       "      <th id=\"T_04611_level0_row5\" class=\"row_heading level0 row5\" >5</th>\n",
       "      <td id=\"T_04611_row5_col0\" class=\"data row5 col0\" >6- Neighbors</td>\n",
       "      <td id=\"T_04611_row5_col1\" class=\"data row5 col1\" >0.928000</td>\n",
       "      <td id=\"T_04611_row5_col2\" class=\"data row5 col2\" >0.015000</td>\n",
       "    </tr>\n",
       "    <tr>\n",
       "      <th id=\"T_04611_level0_row6\" class=\"row_heading level0 row6\" >6</th>\n",
       "      <td id=\"T_04611_row6_col0\" class=\"data row6 col0\" >7- Neighbors</td>\n",
       "      <td id=\"T_04611_row6_col1\" class=\"data row6 col1\" >0.927000</td>\n",
       "      <td id=\"T_04611_row6_col2\" class=\"data row6 col2\" >0.015000</td>\n",
       "    </tr>\n",
       "    <tr>\n",
       "      <th id=\"T_04611_level0_row7\" class=\"row_heading level0 row7\" >7</th>\n",
       "      <td id=\"T_04611_row7_col0\" class=\"data row7 col0\" >8- Neighbors</td>\n",
       "      <td id=\"T_04611_row7_col1\" class=\"data row7 col1\" >0.924000</td>\n",
       "      <td id=\"T_04611_row7_col2\" class=\"data row7 col2\" >0.015000</td>\n",
       "    </tr>\n",
       "    <tr>\n",
       "      <th id=\"T_04611_level0_row8\" class=\"row_heading level0 row8\" >8</th>\n",
       "      <td id=\"T_04611_row8_col0\" class=\"data row8 col0\" >9- Neighbors</td>\n",
       "      <td id=\"T_04611_row8_col1\" class=\"data row8 col1\" >0.926000</td>\n",
       "      <td id=\"T_04611_row8_col2\" class=\"data row8 col2\" >0.015000</td>\n",
       "    </tr>\n",
       "    <tr>\n",
       "      <th id=\"T_04611_level0_row9\" class=\"row_heading level0 row9\" >9</th>\n",
       "      <td id=\"T_04611_row9_col0\" class=\"data row9 col0\" >10- Neighbors</td>\n",
       "      <td id=\"T_04611_row9_col1\" class=\"data row9 col1\" >0.923000</td>\n",
       "      <td id=\"T_04611_row9_col2\" class=\"data row9 col2\" >0.016000</td>\n",
       "    </tr>\n",
       "    <tr>\n",
       "      <th id=\"T_04611_level0_row10\" class=\"row_heading level0 row10\" >10</th>\n",
       "      <td id=\"T_04611_row10_col0\" class=\"data row10 col0\" >11- Neighbors</td>\n",
       "      <td id=\"T_04611_row10_col1\" class=\"data row10 col1\" >0.924000</td>\n",
       "      <td id=\"T_04611_row10_col2\" class=\"data row10 col2\" >0.015000</td>\n",
       "    </tr>\n",
       "    <tr>\n",
       "      <th id=\"T_04611_level0_row11\" class=\"row_heading level0 row11\" >11</th>\n",
       "      <td id=\"T_04611_row11_col0\" class=\"data row11 col0\" >12- Neighbors</td>\n",
       "      <td id=\"T_04611_row11_col1\" class=\"data row11 col1\" >0.921000</td>\n",
       "      <td id=\"T_04611_row11_col2\" class=\"data row11 col2\" >0.016000</td>\n",
       "    </tr>\n",
       "    <tr>\n",
       "      <th id=\"T_04611_level0_row12\" class=\"row_heading level0 row12\" >12</th>\n",
       "      <td id=\"T_04611_row12_col0\" class=\"data row12 col0\" >13- Neighbors</td>\n",
       "      <td id=\"T_04611_row12_col1\" class=\"data row12 col1\" >0.924000</td>\n",
       "      <td id=\"T_04611_row12_col2\" class=\"data row12 col2\" >0.015000</td>\n",
       "    </tr>\n",
       "    <tr>\n",
       "      <th id=\"T_04611_level0_row13\" class=\"row_heading level0 row13\" >13</th>\n",
       "      <td id=\"T_04611_row13_col0\" class=\"data row13 col0\" >14- Neighbors</td>\n",
       "      <td id=\"T_04611_row13_col1\" class=\"data row13 col1\" >0.919000</td>\n",
       "      <td id=\"T_04611_row13_col2\" class=\"data row13 col2\" >0.016000</td>\n",
       "    </tr>\n",
       "    <tr>\n",
       "      <th id=\"T_04611_level0_row14\" class=\"row_heading level0 row14\" >14</th>\n",
       "      <td id=\"T_04611_row14_col0\" class=\"data row14 col0\" >15- Neighbors</td>\n",
       "      <td id=\"T_04611_row14_col1\" class=\"data row14 col1\" >0.922000</td>\n",
       "      <td id=\"T_04611_row14_col2\" class=\"data row14 col2\" >0.016000</td>\n",
       "    </tr>\n",
       "    <tr>\n",
       "      <th id=\"T_04611_level0_row15\" class=\"row_heading level0 row15\" >15</th>\n",
       "      <td id=\"T_04611_row15_col0\" class=\"data row15 col0\" >16- Neighbors</td>\n",
       "      <td id=\"T_04611_row15_col1\" class=\"data row15 col1\" >0.918000</td>\n",
       "      <td id=\"T_04611_row15_col2\" class=\"data row15 col2\" >0.016000</td>\n",
       "    </tr>\n",
       "    <tr>\n",
       "      <th id=\"T_04611_level0_row16\" class=\"row_heading level0 row16\" >16</th>\n",
       "      <td id=\"T_04611_row16_col0\" class=\"data row16 col0\" >17- Neighbors</td>\n",
       "      <td id=\"T_04611_row16_col1\" class=\"data row16 col1\" >0.921000</td>\n",
       "      <td id=\"T_04611_row16_col2\" class=\"data row16 col2\" >0.015000</td>\n",
       "    </tr>\n",
       "    <tr>\n",
       "      <th id=\"T_04611_level0_row17\" class=\"row_heading level0 row17\" >17</th>\n",
       "      <td id=\"T_04611_row17_col0\" class=\"data row17 col0\" >18- Neighbors</td>\n",
       "      <td id=\"T_04611_row17_col1\" class=\"data row17 col1\" >0.917000</td>\n",
       "      <td id=\"T_04611_row17_col2\" class=\"data row17 col2\" >0.016000</td>\n",
       "    </tr>\n",
       "    <tr>\n",
       "      <th id=\"T_04611_level0_row18\" class=\"row_heading level0 row18\" >18</th>\n",
       "      <td id=\"T_04611_row18_col0\" class=\"data row18 col0\" >19- Neighbors</td>\n",
       "      <td id=\"T_04611_row18_col1\" class=\"data row18 col1\" >0.920000</td>\n",
       "      <td id=\"T_04611_row18_col2\" class=\"data row18 col2\" >0.015000</td>\n",
       "    </tr>\n",
       "    <tr>\n",
       "      <th id=\"T_04611_level0_row19\" class=\"row_heading level0 row19\" >19</th>\n",
       "      <td id=\"T_04611_row19_col0\" class=\"data row19 col0\" >20- Neighbors</td>\n",
       "      <td id=\"T_04611_row19_col1\" class=\"data row19 col1\" >0.917000</td>\n",
       "      <td id=\"T_04611_row19_col2\" class=\"data row19 col2\" >0.016000</td>\n",
       "    </tr>\n",
       "  </tbody>\n",
       "</table>\n"
      ],
      "text/plain": [
       "<pandas.io.formats.style.Styler at 0x22c75a41220>"
      ]
     },
     "execution_count": 6,
     "metadata": {},
     "output_type": "execute_result"
    },
    {
     "data": {
      "image/png": "[encoded data removed]",
      "text/plain": [
       "<Figure size 432x288 with 1 Axes>"
      ]
     },
     "metadata": {
      "needs_background": "light"
     },
     "output_type": "display_data"
    }
   ],
   "source": [
    "#knn#\n",
    "avg_scores_f1 = {} ## dict for  f1 mean $\n",
    "std_scores_f1 = {} ## dict for f1 std  $\n",
    "f1_scores=[]\n",
    "\n",
    "for i in range (1,21):\n",
    "    knn = KNeighborsClassifier(n_neighbors=i,metric =\"euclidean\")\n",
    "    f1_scores=[]\n",
    "    for j in range (0,1001):\n",
    "        X_train, X_test, y_train, y_test = train_test_split(x, y, test_size = 0.25,random_state = j)\n",
    "        sc = StandardScaler()\n",
    "        X_train = sc.fit_transform(X_train)\n",
    "        X_test = sc.transform (X_test)\n",
    "        knn.fit(X_train, y_train)\n",
    "        y_pred = knn.predict(X_test)\n",
    "        score = f1_score(y_pred, y_test)\n",
    "        f1_scores.append(score)\n",
    "    avg_scores_f1[str(i)+\"- Neighbors\"]=mean(f1_scores)\n",
    "    std_scores_f1[str(i)+\"- Neighbors\"]=std(f1_scores)\n",
    "        \n",
    "avg_sc=dfmaker(avg_scores_f1)\n",
    "std_sc=dfmaker(std_scores_f1)\n",
    "avg_d=avg_sc.rename(columns = {avg_sc.columns[0]:\"name\",avg_sc.columns[1]:\"avg\"})## rename to use apply#\n",
    "std_d=std_sc.rename(columns = {std_sc.columns[0]:\"name\",std_sc.columns[1]:\"std\"})## rename to use apply#\n",
    "df=merge_fix_cols(avg_d,std_d,\"name\")\n",
    "df.plot(x ='name',kind = \"barh\", y = \"avg\", legend = False,xerr = \"std\", title = \"mean and std\", color='green')\n",
    "df=df.round(decimals = 3)\n",
    "\n",
    "df.style.highlight_max(color = 'lightgreen',subset=[\"avg\"], axis = 0).highlight_min(color = 'lightgreen',subset=[\"std\"], axis = 0)\n"
   ]
  },
  {
   "cell_type": "code",
   "execution_count": null,
   "id": "9c712992",
   "metadata": {},
   "outputs": [],
   "source": []
  },
  {
   "cell_type": "code",
   "execution_count": null,
   "id": "adefa93c",
   "metadata": {},
   "outputs": [],
   "source": []
  },
  {
   "cell_type": "code",
   "execution_count": 7,
   "id": "349d37e4",
   "metadata": {},
   "outputs": [
    {
     "name": "stdout",
     "output_type": "stream",
     "text": [
      "  feature       VIF\n",
      "0  Height  6.421313\n",
      "1  Salary  6.421313\n"
     ]
    },
    {
     "data": {
      "text/plain": [
       "Text(0.5, 1.0, 'Log Odds Linear Height')"
      ]
     },
     "execution_count": 7,
     "metadata": {},
     "output_type": "execute_result"
    },
    {
     "data": {
      "image/png": "[encoded data removed]",
      "text/plain": [
       "<Figure size 432x288 with 1 Axes>"
      ]
     },
     "metadata": {
      "needs_background": "light"
     },
     "output_type": "display_data"
    }
   ],
   "source": [
    "from statsmodels.stats.outliers_influence import variance_inflation_factor\n",
    "from sklearn.linear_model import LogisticRegression\n",
    "\n",
    "\n",
    "y = dataset.iloc[:,2:3].values ## take the y postive\n",
    "x=dataset.iloc[:,0:2]\n",
    "x\n",
    "\n",
    "# VIF dataframe\n",
    "vif_data = pd.DataFrame()\n",
    "vif_data[\"feature\"] = x.columns\n",
    "  \n",
    "# calculating VIF for each feature\n",
    "vif_data[\"VIF\"] = [variance_inflation_factor(x.values, i)\n",
    "                          for i in range(len(x.columns))]\n",
    "  \n",
    "print(vif_data)\n",
    "\n",
    "\n",
    "## high vlf so remove the Height   ##\n",
    "\n",
    "y = dataset.iloc[:,2:3].values ## take the y postive\n",
    "x=dataset.iloc[:,0:1].values\n",
    "sns.regplot(x= x, y= y, logistic= True,color = 'green').set_title(\"Log Odds Linear Height\")\n",
    "\n"
   ]
  },
  {
   "cell_type": "code",
   "execution_count": 8,
   "id": "d44a01cd",
   "metadata": {},
   "outputs": [
    {
     "data": {
      "text/plain": [
       "Text(0.5, 1.0, 'Log Odds Linear Salary')"
      ]
     },
     "execution_count": 8,
     "metadata": {},
     "output_type": "execute_result"
    },
    {
     "data": {
      "image/png": "[encoded data removed]",
      "text/plain": [
       "<Figure size 432x288 with 1 Axes>"
      ]
     },
     "metadata": {
      "needs_background": "light"
     },
     "output_type": "display_data"
    }
   ],
   "source": [
    "x=dataset.iloc[:,1:2].values\n",
    "sns.regplot(x= x, y= y, logistic= True,color = 'orange').set_title(\"Log Odds Linear Salary\")"
   ]
  },
  {
   "cell_type": "code",
   "execution_count": 9,
   "id": "c36d8420",
   "metadata": {},
   "outputs": [],
   "source": [
    "x=dataset.iloc[:,1:2].values ## the only feature is salary##"
   ]
  },
  {
   "cell_type": "code",
   "execution_count": 10,
   "id": "2102da04",
   "metadata": {},
   "outputs": [
    {
     "name": "stdout",
     "output_type": "stream",
     "text": [
      "the avg is  0.7824864899348902\n",
      "the std is  0.02225215931709485\n"
     ]
    }
   ],
   "source": [
    "#logistic regression#\n",
    "## dont need to use SMOTE beacuse the data is balanced ## \n",
    "f1_scores=[]\n",
    "\n",
    "for j in range (0,1001):\n",
    "    \n",
    "    logreg = LogisticRegression()\n",
    "    X_train, X_test, y_train, y_test = train_test_split(x, y, test_size = 0.25,random_state = j)\n",
    "    sc = StandardScaler()\n",
    "    X_train = sc.fit_transform(X_train)\n",
    "    X_test = sc.transform (X_test)\n",
    "    logreg.fit(X_train, y_train)\n",
    "    y_pred = logreg.predict(X_test)\n",
    "    score =float(f1_score(y_pred, y_test))\n",
    "    f1_scores.append((score))\n",
    "\n",
    "\n",
    "avg_log=float(mean(f1_scores))\n",
    "std_log=(std(f1_scores))\n",
    "print(\"the avg is \",avg_log)\n",
    "print(\"the std is \",std_log)"
   ]
  },
  {
   "cell_type": "code",
   "execution_count": 11,
   "id": "1d87b497",
   "metadata": {},
   "outputs": [],
   "source": [
    "##go back to the original data ## \n",
    "\n",
    "y = dataset.iloc[:,2:3].values ## take the y postive\n",
    "x=dataset.iloc[:,0:2].values"
   ]
  },
  {
   "cell_type": "code",
   "execution_count": 12,
   "id": "e6b899af",
   "metadata": {},
   "outputs": [
    {
     "name": "stdout",
     "output_type": "stream",
     "text": [
      "the avg is  0.814975719699746\n",
      "the std is  0.02108274477477073\n"
     ]
    }
   ],
   "source": [
    "#svc linear#\n",
    "from sklearn.preprocessing import MinMaxScaler\n",
    "from sklearn.svm import SVC\n",
    "from sklearn.svm import LinearSVC\n",
    "f1_scores=[]\n",
    "for j in range (0,1001):\n",
    "    X_train, X_test, y_train, y_test = train_test_split(x, y, test_size = 0.25,random_state = j)\n",
    "    clf =LinearSVC()\n",
    "    sc =StandardScaler() \n",
    "    X_train = sc.fit_transform(X_train)\n",
    "    X_test = sc.transform (X_test)\n",
    "    clf.fit(X_train, y_train)\n",
    "    y_pred = clf.predict(X_test)\n",
    "    score =float(f1_score(y_pred, y_test))\n",
    "    f1_scores.append((score))\n",
    "\n",
    "\n",
    "avg_SVC=float(mean(f1_scores))\n",
    "std_SVC=(std(f1_scores))\n",
    "print(\"the avg is \",avg_SVC)\n",
    "print(\"the std is \",std_SVC)"
   ]
  },
  {
   "cell_type": "code",
   "execution_count": 13,
   "id": "50a29027",
   "metadata": {},
   "outputs": [
    {
     "data": {
      "text/html": [
       "<style type=\"text/css\">\n",
       "#T_0c0a9_row1_col1, #T_0c0a9_row3_col2 {\n",
       "  background-color: lightgreen;\n",
       "}\n",
       "</style>\n",
       "<table id=\"T_0c0a9_\">\n",
       "  <thead>\n",
       "    <tr>\n",
       "      <th class=\"blank level0\" >&nbsp;</th>\n",
       "      <th class=\"col_heading level0 col0\" >name</th>\n",
       "      <th class=\"col_heading level0 col1\" >avg</th>\n",
       "      <th class=\"col_heading level0 col2\" >std</th>\n",
       "    </tr>\n",
       "  </thead>\n",
       "  <tbody>\n",
       "    <tr>\n",
       "      <th id=\"T_0c0a9_level0_row0\" class=\"row_heading level0 row0\" >0</th>\n",
       "      <td id=\"T_0c0a9_row0_col0\" class=\"data row0 col0\" >2- dgree</td>\n",
       "      <td id=\"T_0c0a9_row0_col1\" class=\"data row0 col1\" >0.751365</td>\n",
       "      <td id=\"T_0c0a9_row0_col2\" class=\"data row0 col2\" >0.019730</td>\n",
       "    </tr>\n",
       "    <tr>\n",
       "      <th id=\"T_0c0a9_level0_row1\" class=\"row_heading level0 row1\" >1</th>\n",
       "      <td id=\"T_0c0a9_row1_col0\" class=\"data row1 col0\" >3- dgree</td>\n",
       "      <td id=\"T_0c0a9_row1_col1\" class=\"data row1 col1\" >0.841320</td>\n",
       "      <td id=\"T_0c0a9_row1_col2\" class=\"data row1 col2\" >0.019347</td>\n",
       "    </tr>\n",
       "    <tr>\n",
       "      <th id=\"T_0c0a9_level0_row2\" class=\"row_heading level0 row2\" >2</th>\n",
       "      <td id=\"T_0c0a9_row2_col0\" class=\"data row2 col0\" >4- dgree</td>\n",
       "      <td id=\"T_0c0a9_row2_col1\" class=\"data row2 col1\" >0.765646</td>\n",
       "      <td id=\"T_0c0a9_row2_col2\" class=\"data row2 col2\" >0.021232</td>\n",
       "    </tr>\n",
       "    <tr>\n",
       "      <th id=\"T_0c0a9_level0_row3\" class=\"row_heading level0 row3\" >3</th>\n",
       "      <td id=\"T_0c0a9_row3_col0\" class=\"data row3 col0\" >5- dgree</td>\n",
       "      <td id=\"T_0c0a9_row3_col1\" class=\"data row3 col1\" >0.819369</td>\n",
       "      <td id=\"T_0c0a9_row3_col2\" class=\"data row3 col2\" >0.019142</td>\n",
       "    </tr>\n",
       "  </tbody>\n",
       "</table>\n"
      ],
      "text/plain": [
       "<pandas.io.formats.style.Styler at 0x22c758c9490>"
      ]
     },
     "execution_count": 13,
     "metadata": {},
     "output_type": "execute_result"
    },
    {
     "data": {
      "image/png": "[encoded data removed]",
      "text/plain": [
       "<Figure size 432x288 with 1 Axes>"
      ]
     },
     "metadata": {
      "needs_background": "light"
     },
     "output_type": "display_data"
    }
   ],
   "source": [
    "#svc poly regression#\n",
    "avg_scores_f1 = {} ## dict for  f1 mean $\n",
    "std_scores_f1 = {} ## dict for f1 std  $\n",
    "f1_scores=[]\n",
    "from sklearn.svm import SVC\n",
    "for i in range (2,6):\n",
    "    clf =SVC(kernel='poly',degree=i)\n",
    "    f1_scores=[]\n",
    "    for j in range (0,1001):\n",
    "        X_train, X_test, y_train, y_test = train_test_split(x, y, test_size = 0.25,random_state = j)\n",
    "        sc = StandardScaler()\n",
    "        X_train = sc.fit_transform(X_train)\n",
    "        X_test = sc.transform (X_test)\n",
    "\n",
    "        clf.fit(X_train, y_train)\n",
    "        y_pred = clf.predict(X_test)\n",
    "        score = f1_score(y_pred, y_test)\n",
    "        f1_scores.append(score)\n",
    "    avg_scores_f1[str(i)+\"- dgree\"]=mean(f1_scores)\n",
    "    std_scores_f1[str(i)+\"- dgree\"]=std(f1_scores)\n",
    "        \n",
    "avg_sc=dfmaker(avg_scores_f1)\n",
    "std_sc=dfmaker(std_scores_f1)\n",
    "avg_d=avg_sc.rename(columns = {avg_sc.columns[0]:\"name\",avg_sc.columns[1]:\"avg\"})## rename to use apply#\n",
    "std_d=std_sc.rename(columns = {std_sc.columns[0]:\"name\",std_sc.columns[1]:\"std\"})## rename to use apply#\n",
    "df_poly=merge_fix_cols(avg_d,std_d,\"name\")\n",
    "df_poly.plot(x ='name',kind = \"barh\", y = \"avg\", legend = False,xerr = \"std\", title = \"mean and std\", color='green')\n",
    "df_poly.round(decimals = 4)\n",
    "df_poly.style.highlight_max(color = 'lightgreen',subset=[\"avg\"], axis = 0).highlight_min(color = 'lightgreen',subset=[\"std\"], axis = 0)\n"
   ]
  },
  {
   "cell_type": "code",
   "execution_count": 14,
   "id": "a1654279",
   "metadata": {},
   "outputs": [],
   "source": [
    "#svc gaussian #\n",
    "avg_scores_f1 = {} ## dict for  f1 mean $\n",
    "std_scores_f1 = {} ## dict for f1 std  $\n",
    "f1_scores=[]\n",
    "from sklearn.svm import SVC\n",
    "for i in (0.2,0.5,1.2,1.8,3):\n",
    "    clf =SVC(kernel=\"rbf\", C =i)\n",
    "    f1_scores=[]\n",
    "    for j in range (0,1001):\n",
    "        X_train, X_test, y_train, y_test = train_test_split(x, y, test_size = 0.25,random_state = j)\n",
    "        sc = StandardScaler()\n",
    "        X_train = sc.fit_transform(X_train)\n",
    "        X_test = sc.transform (X_test)\n",
    "\n",
    "        clf.fit(X_train, y_train)\n",
    "        y_pred = clf.predict(X_test)\n",
    "        score = f1_score(y_pred, y_test)\n",
    "        f1_scores.append(score)\n",
    "    avg_scores_f1[str(i)+\"- C\"]=mean(f1_scores)\n",
    "    std_scores_f1[str(i)+\"- C\"]=std(f1_scores)\n",
    "        \n"
   ]
  },
  {
   "cell_type": "code",
   "execution_count": 15,
   "id": "fa6f32fb",
   "metadata": {},
   "outputs": [
    {
     "data": {
      "text/html": [
       "<style type=\"text/css\">\n",
       "#T_44757_row4_col1, #T_44757_row4_col2 {\n",
       "  background-color: lightgreen;\n",
       "}\n",
       "</style>\n",
       "<table id=\"T_44757_\">\n",
       "  <thead>\n",
       "    <tr>\n",
       "      <th class=\"blank level0\" >&nbsp;</th>\n",
       "      <th class=\"col_heading level0 col0\" >name</th>\n",
       "      <th class=\"col_heading level0 col1\" >avg</th>\n",
       "      <th class=\"col_heading level0 col2\" >std</th>\n",
       "    </tr>\n",
       "  </thead>\n",
       "  <tbody>\n",
       "    <tr>\n",
       "      <th id=\"T_44757_level0_row0\" class=\"row_heading level0 row0\" >0</th>\n",
       "      <td id=\"T_44757_row0_col0\" class=\"data row0 col0\" >0.2- C</td>\n",
       "      <td id=\"T_44757_row0_col1\" class=\"data row0 col1\" >0.889030</td>\n",
       "      <td id=\"T_44757_row0_col2\" class=\"data row0 col2\" >0.017762</td>\n",
       "    </tr>\n",
       "    <tr>\n",
       "      <th id=\"T_44757_level0_row1\" class=\"row_heading level0 row1\" >1</th>\n",
       "      <td id=\"T_44757_row1_col0\" class=\"data row1 col0\" >0.5- C</td>\n",
       "      <td id=\"T_44757_row1_col1\" class=\"data row1 col1\" >0.902821</td>\n",
       "      <td id=\"T_44757_row1_col2\" class=\"data row1 col2\" >0.017292</td>\n",
       "    </tr>\n",
       "    <tr>\n",
       "      <th id=\"T_44757_level0_row2\" class=\"row_heading level0 row2\" >2</th>\n",
       "      <td id=\"T_44757_row2_col0\" class=\"data row2 col0\" >1.2- C</td>\n",
       "      <td id=\"T_44757_row2_col1\" class=\"data row2 col1\" >0.911217</td>\n",
       "      <td id=\"T_44757_row2_col2\" class=\"data row2 col2\" >0.016023</td>\n",
       "    </tr>\n",
       "    <tr>\n",
       "      <th id=\"T_44757_level0_row3\" class=\"row_heading level0 row3\" >3</th>\n",
       "      <td id=\"T_44757_row3_col0\" class=\"data row3 col0\" >1.8- C</td>\n",
       "      <td id=\"T_44757_row3_col1\" class=\"data row3 col1\" >0.913864</td>\n",
       "      <td id=\"T_44757_row3_col2\" class=\"data row3 col2\" >0.015793</td>\n",
       "    </tr>\n",
       "    <tr>\n",
       "      <th id=\"T_44757_level0_row4\" class=\"row_heading level0 row4\" >4</th>\n",
       "      <td id=\"T_44757_row4_col0\" class=\"data row4 col0\" >3- C</td>\n",
       "      <td id=\"T_44757_row4_col1\" class=\"data row4 col1\" >0.918061</td>\n",
       "      <td id=\"T_44757_row4_col2\" class=\"data row4 col2\" >0.015432</td>\n",
       "    </tr>\n",
       "  </tbody>\n",
       "</table>\n"
      ],
      "text/plain": [
       "<pandas.io.formats.style.Styler at 0x22c7710aeb0>"
      ]
     },
     "execution_count": 15,
     "metadata": {},
     "output_type": "execute_result"
    },
    {
     "data": {
      "image/png": "[encoded data removed]",
      "text/plain": [
       "<Figure size 432x288 with 1 Axes>"
      ]
     },
     "metadata": {
      "needs_background": "light"
     },
     "output_type": "display_data"
    }
   ],
   "source": [
    "avg_a=dfmaker(avg_scores_f1)\n",
    "std_a=dfmaker(std_scores_f1)\n",
    "avg_d=avg_a.rename(columns = {avg_a.columns[0]:\"name\",avg_a.columns[1]:\"avg\"})## rename to use apply#\n",
    "std_d=std_a.rename(columns = {std_a.columns[0]:\"name\",std_a.columns[1]:\"std\"})## rename to use apply#\n",
    "df_gu=merge_fix_cols(avg_d,std_d,\"name\")\n",
    "df_gu.plot(x ='name',kind = \"barh\", y = \"avg\", legend = False,xerr = \"std\", title = \"mean and std\", color='green')\n",
    "df_gu.round(decimals = 3)\n",
    "df_gu.style.highlight_max(color = 'lightgreen',subset=[\"avg\"], axis = 0).highlight_min(color = 'lightgreen',subset=[\"std\"], axis = 0)\n",
    "\n"
   ]
  },
  {
   "cell_type": "code",
   "execution_count": 17,
   "id": "50462f10",
   "metadata": {},
   "outputs": [
    {
     "name": "stdout",
     "output_type": "stream",
     "text": [
      "Collecting package metadata (current_repodata.json): ...working... done\n",
      "Solving environment: ...working... done\n",
      "\n",
      "## Package Plan ##\n",
      "\n",
      "  environment location: C:\\Users\\izaada\\Anaconda3\n",
      "\n",
      "  added / updated specs:\n",
      "    - py-xgboost\n",
      "\n",
      "\n",
      "The following packages will be downloaded:\n",
      "\n",
      "    package                    |            build\n",
      "    ---------------------------|-----------------\n",
      "    _py-xgboost-mutex-2.0      |            cpu_0          12 KB  anaconda\n",
      "    conda-4.12.0               |   py39haa95532_0        14.5 MB\n",
      "    libxgboost-1.5.0           |       hd77b12b_1         1.3 MB\n",
      "    py-xgboost-1.5.0           |   py39haa95532_1         171 KB\n",
      "    ------------------------------------------------------------\n",
      "                                           Total:        16.0 MB\n",
      "\n",
      "The following NEW packages will be INSTALLED:\n",
      "\n",
      "  _py-xgboost-mutex  anaconda/win-64::_py-xgboost-mutex-2.0-cpu_0\n",
      "  libxgboost         pkgs/main/win-64::libxgboost-1.5.0-hd77b12b_1\n",
      "  py-xgboost         pkgs/main/win-64::py-xgboost-1.5.0-py39haa95532_1\n",
      "\n",
      "The following packages will be UPDATED:\n",
      "\n",
      "  conda              conda-forge::conda-4.11.0-py39hcbf530~ --> pkgs/main::conda-4.12.0-py39haa95532_0\n",
      "\n",
      "\n",
      "\n",
      "Downloading and Extracting Packages\n",
      "\n",
      "libxgboost-1.5.0     | 1.3 MB    |            |   0% \n",
      "libxgboost-1.5.0     | 1.3 MB    | ########## | 100% \n",
      "libxgboost-1.5.0     | 1.3 MB    | ########## | 100% \n",
      "\n",
      "_py-xgboost-mutex-2. | 12 KB     |            |   0% \n",
      "_py-xgboost-mutex-2. | 12 KB     | ########## | 100% \n",
      "_py-xgboost-mutex-2. | 12 KB     | ########## | 100% \n",
      "\n",
      "conda-4.12.0         | 14.5 MB   |            |   0% \n",
      "conda-4.12.0         | 14.5 MB   | ##3        |  23% \n",
      "conda-4.12.0         | 14.5 MB   | #######1   |  71% \n",
      "conda-4.12.0         | 14.5 MB   | ########## | 100% \n",
      "\n",
      "py-xgboost-1.5.0     | 171 KB    |            |   0% \n",
      "py-xgboost-1.5.0     | 171 KB    | 9          |   9% \n",
      "py-xgboost-1.5.0     | 171 KB    | ########## | 100% \n",
      "py-xgboost-1.5.0     | 171 KB    | ########## | 100% \n",
      "Preparing transaction: ...working... done\n",
      "Verifying transaction: ...working... done\n",
      "Executing transaction: ...working... done\n",
      "\n",
      "Note: you may need to restart the kernel to use updated packages.\n"
     ]
    }
   ],
   "source": [
    "conda install -c anaconda py-xgboost\n"
   ]
  },
  {
   "cell_type": "code",
   "execution_count": 38,
   "id": "3b3f72af",
   "metadata": {},
   "outputs": [
    {
     "name": "stdout",
     "output_type": "stream",
     "text": [
      "[15:03:35] WARNING: ..\\src\\learner.cc:1115: Starting in XGBoost 1.3.0, the default evaluation metric used with the objective 'binary:logistic' was changed from 'error' to 'logloss'. Explicitly set eval_metric if you'd like to restore the old behavior.\n"
     ]
    },
    {
     "data": {
      "text/plain": [
       "XGBClassifier(base_score=0.5, booster='gbtree', colsample_bylevel=1,\n",
       "              colsample_bynode=1, colsample_bytree=1, enable_categorical=False,\n",
       "              gamma=0, gpu_id=-1, importance_type=None,\n",
       "              interaction_constraints='', learning_rate=0.300000012,\n",
       "              max_delta_step=0, max_depth=6, min_child_weight=1, missing=nan,\n",
       "              monotone_constraints='()', n_estimators=100, n_jobs=8,\n",
       "              num_parallel_tree=1, predictor='auto', random_state=0,\n",
       "              reg_alpha=0, reg_lambda=1, scale_pos_weight=1, subsample=1,\n",
       "              tree_method='exact', validate_parameters=1, verbosity=None)"
      ]
     },
     "execution_count": 38,
     "metadata": {},
     "output_type": "execute_result"
    }
   ],
   "source": [
    "from xgboost import XGBClassifier\n",
    "X_train, X_test, y_train, y_test = train_test_split(x, y, test_size = 0.25,random_state = 42)\n",
    "xgboost = XGBClassifier()\n",
    "xgboost.fit(X_train, y_train)"
   ]
  },
  {
   "cell_type": "code",
   "execution_count": 43,
   "id": "99c11492",
   "metadata": {},
   "outputs": [
    {
     "name": "stdout",
     "output_type": "stream",
     "text": [
      "accuracy:  0.9123505976095617\n",
      "f1:  0.9294871794871795\n"
     ]
    }
   ],
   "source": [
    "from sklearn.metrics import confusion_matrix, accuracy_score\n",
    "y_pred = xgboost.predict(X_test)\n",
    "cm = confusion_matrix(y_test, y_pred)\n",
    "print(\"accuracy: \",accuracy_score(y_test, y_pred))\n",
    "print(\"f1: \",f1_score(y_pred, y_test))"
   ]
  },
  {
   "cell_type": "code",
   "execution_count": 44,
   "id": "66a1b0f4",
   "metadata": {},
   "outputs": [
    {
     "data": {
      "image/png": "[encoded data removed]",
      "text/plain": [
       "<Figure size 432x288 with 2 Axes>"
      ]
     },
     "metadata": {
      "needs_background": "light"
     },
     "output_type": "display_data"
    }
   ],
   "source": [
    "import seaborn as sns\n",
    "import matplotlib.pyplot as plt     \n",
    "\n",
    "ax= plt.subplot()\n",
    "sns.heatmap(cm, annot=True, fmt='g', ax=ax);  #annot=True to annotate cells, ftm='g' to disable scientific notation\n",
    "\n",
    "# labels, title and ticks\n",
    "ax.set_xlabel('Predicted labels');ax.set_ylabel('True labels'); \n",
    "ax.set_title('Confusion Matrix'); \n",
    "ax.xaxis.set_ticklabels(['True', 'False']); ax.yaxis.set_ticklabels(['True', 'False']);"
   ]
  },
  {
   "cell_type": "code",
   "execution_count": null,
   "id": "93a10046",
   "metadata": {},
   "outputs": [],
   "source": []
  },
  {
   "cell_type": "code",
   "execution_count": 45,
   "id": "2975e6ad",
   "metadata": {},
   "outputs": [
    {
     "name": "stdout",
     "output_type": "stream",
     "text": [
      "accuracy:  0.9442231075697212\n",
      "f1:  0.9539473684210527\n"
     ]
    }
   ],
   "source": [
    "from sklearn.ensemble import RandomForestClassifier\n",
    "RandomForest = RandomForestClassifier(n_estimators = 10, criterion = 'entropy', random_state = 0)\n",
    "RandomForest.fit(X_train, y_train)\n",
    "y_pred = RandomForest.predict(X_test)\n",
    "cm = confusion_matrix(y_test, y_pred)\n",
    "print(\"accuracy: \",accuracy_score(y_test, y_pred))\n",
    "print(\"f1: \",f1_score(y_pred, y_test))"
   ]
  },
  {
   "cell_type": "code",
   "execution_count": 46,
   "id": "5bf7c19d",
   "metadata": {},
   "outputs": [
    {
     "data": {
      "image/png": "[encoded data removed]",
      "text/plain": [
       "<Figure size 432x288 with 2 Axes>"
      ]
     },
     "metadata": {
      "needs_background": "light"
     },
     "output_type": "display_data"
    }
   ],
   "source": [
    "import seaborn as sns\n",
    "import matplotlib.pyplot as plt     \n",
    "\n",
    "ax= plt.subplot()\n",
    "sns.heatmap(cm, annot=True, fmt='g', ax=ax);  #annot=True to annotate cells, ftm='g' to disable scientific notation\n",
    "\n",
    "# labels, title and ticks\n",
    "ax.set_xlabel('Predicted labels');ax.set_ylabel('True labels'); \n",
    "ax.set_title('Confusion Matrix'); \n",
    "ax.xaxis.set_ticklabels(['True', 'False']); ax.yaxis.set_ticklabels(['True', 'False']);"
   ]
  },
  {
   "cell_type": "code",
   "execution_count": null,
   "id": "43c715b7",
   "metadata": {},
   "outputs": [],
   "source": []
  },
  {
   "cell_type": "code",
   "execution_count": null,
   "id": "9cebe42b",
   "metadata": {},
   "outputs": [],
   "source": []
  }
 ],
 "metadata": {
  "kernelspec": {
   "display_name": "Python 3 (ipykernel)",
   "language": "python",
   "name": "python3"
  },
  "language_info": {
   "codemirror_mode": {
    "name": "ipython",
    "version": 3
   },
   "file_extension": ".py",
   "mimetype": "text/x-python",
   "name": "python",
   "nbconvert_exporter": "python",
   "pygments_lexer": "ipython3",
   "version": "3.9.7"
  }
 },
 "nbformat": 4,
 "nbformat_minor": 5
}
